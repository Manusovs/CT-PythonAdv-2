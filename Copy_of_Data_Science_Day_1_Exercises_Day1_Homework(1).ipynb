{
 "cells": [
  {
   "cell_type": "markdown",
   "metadata": {
    "id": "KdERlTpFuL5V"
   },
   "source": [
    "# Exercises"
   ]
  },
  {
   "cell_type": "markdown",
   "metadata": {
    "id": "to-gsrQyuL5Z"
   },
   "source": [
    "### #1 - Calculate the BMI (body mass index) on the two lists below using NDArrays..."
   ]
  },
  {
   "cell_type": "code",
   "execution_count": 16,
   "metadata": {
    "id": "iZlf9DzeuL5a"
   },
   "outputs": [
    {
     "name": "stdout",
     "output_type": "stream",
     "text": [
      "16.866204578869986\n",
      "17.877551020408163\n",
      "18.825629835350128\n",
      "19.714506172839506\n",
      "20.54794520547945\n",
      "21.329437545653764\n",
      "22.06222222222222\n",
      "[16.866204578869986, 17.877551020408163, 18.825629835350128, 19.714506172839506, 20.54794520547945, 21.329437545653764, 22.06222222222222]\n"
     ]
    }
   ],
   "source": [
    "import numpy as np\n",
    "# formula = weight / (height**2) * 730\n",
    "height = [69, 70, 71, 72, 73, 74, 75]\n",
    "weight = [110, 120, 130, 140, 150, 160, 170]\n",
    "\n",
    "# this runs the formula for getting BMI with 2 values\n",
    "def BMI_calc(heightv,weightv): # added v to height and weight to make clear differences from the prenamed lists\n",
    "    bmi = weightv / (heightv ** 2) * 730\n",
    "    return(bmi)\n",
    "\n",
    "BMI_list = []\n",
    "\n",
    "#This is the function to create a new list to tie height and weight together\n",
    "combo = tuple(zip(height, weight))\n",
    "    \n",
    "#This is the loop to run the BMI calculator on the whole list\n",
    "for value in range(len(combo)):\n",
    "#     BMI_calc()\n",
    "    #this stores the values\n",
    "    BMI_list.append(BMI_calc(combo[value][0],combo[value][1]))\n",
    "    print(BMI_calc(combo[value][0],combo[value][1]))# this lets us see the values\n",
    "    \n",
    "#This line is optional\n",
    "print(BMI_list)#This shows the list we stored which should match the previously printed values\n"
   ]
  },
  {
   "cell_type": "markdown",
   "metadata": {
    "id": "RSsT8w8ouL5b"
   },
   "source": [
    "### #2 - Create a function that will take in two parameters and will create a random matrix based off of those parameters. Extra: Have additional parameters taken in that allow the user to choose the shape and data type of the matrix."
   ]
  },
  {
   "cell_type": "code",
   "execution_count": 21,
   "metadata": {
    "id": "ygFvj0aeuL5b"
   },
   "outputs": [
    {
     "name": "stdout",
     "output_type": "stream",
     "text": [
      "what would you like the minimum number to be? 0\n",
      "what would you like the maximum number to be? 1\n",
      "how many rows would you like? 2\n",
      "how many columns would you like? 3\n",
      "[[0.36469369 0.5828151  0.64058719]\n",
      " [0.00729033 0.50695797 0.89385689]]\n"
     ]
    }
   ],
   "source": [
    "# function that creates random numbers with a min, max, number of rows and columns\n",
    "def rand_matr(p1,p2,rows,columns):\n",
    "    random_matrix = np.random.uniform(p1, p2, (rows, columns))\n",
    "    print(random_matrix)\n",
    "    return(random_matrix)\n",
    "\n",
    "# a function that lets you get your parameters by asking the user and then builds the matrix\n",
    "def matrix_from_questions():\n",
    "    mini = float(input(\"what would you like the minimum number to be? \")) #I realize the prompt didn't ask to let the user change\n",
    "    # the minimum, but I thought why not also give them that ability\n",
    "    maxi = float(input(\"what would you like the maximum number to be? \")) #same for maximum\n",
    "    row = int(input(\"how many rows would you like? \"))\n",
    "    column = int(input(\"how many columns would you like? \"))\n",
    "    rand_matr(mini,maxi,row,column)\n",
    "\n",
    "matrix_from_questions()\n",
    "\n",
    "    \n",
    "    \n"
   ]
  },
  {
   "cell_type": "markdown",
   "metadata": {
    "id": "e5mP1UX9uL5c"
   },
   "source": [
    "### #3 - Extra: Open and load the data in the two text files that have the Boston Red Sox hitting data for the past seasons. Compare the difference in the two years by putting the data into an NDArray and running a differencial operation on it. The column to look for will be SLG.\n",
    "\n",
    "Your output should display which year (either 2017 or 2018) was a better year based on SLG"
   ]
  },
  {
   "cell_type": "code",
   "execution_count": 32,
   "metadata": {
    "id": "iAExC-SjuL5c"
   },
   "outputs": [
    {
     "name": "stdout",
     "output_type": "stream",
     "text": [
      "5\n",
      "Sandy Leon\n"
     ]
    }
   ],
   "source": [
    "import csv\n",
    "import numpy as np\n",
    "\n",
    "def open_csv(filename, d=','):\n",
    "    data = []\n",
    "    with open(filename, encoding='utf-8-sig') as sox_data:\n",
    "        #this is the function converting to useful data\n",
    "        sox_info = csv.reader(sox_data, delimiter = d)\n",
    "#         print(sox_info) # this shows where the file is stored\n",
    "        # this steps converts the data to a usable list for us\n",
    "        for row in sox_info:\n",
    "            data.append(row)\n",
    "        \n",
    "    # no need to close file, using with statement closes automatically\n",
    "#     print(data) # this shows the full data in our list\n",
    "    return data\n",
    "\n",
    "sox17 = open_csv('redsox_2017_hitting.txt')\n",
    "print(sox17[1][11]) # this shows the 12th value on the 2nd \"line\"\n",
    "sox18 = open_csv('redsox_2018_hitting.txt')\n",
    "print(sox18[1][2]) # this shows the 3rd value on the 2nd \"line\"\n"
   ]
  },
  {
   "cell_type": "code",
   "execution_count": 44,
   "metadata": {
    "id": "P8Rwr8lmuL5e"
   },
   "outputs": [
    {
     "name": "stdout",
     "output_type": "stream",
     "text": [
      "0.39334782374941785\n",
      "0.38750000335276125\n",
      "Average of the SLG Column in 2017: 0.39334782374941785\n",
      "Average of the SLG Column in 2018: 0.38750000335276125\n",
      "2017 was a better year for batter productivity the average SLG was 0.0058478203966566 higher than 2018\n"
     ]
    }
   ],
   "source": [
    "FIELDS = ['Rk', 'Pos', 'Name', 'Age', 'G', 'PA', 'AB', 'R', 'H', '2B', '3B', 'HR', 'RBI', 'SB', 'CS', \n",
    "          'BB', 'SO', 'BA', 'OBP', 'SLG', 'OPS', 'OPS+', 'TB', 'GDP', 'HBP', 'SH', 'SF', 'IBB']\n",
    "\n",
    "DATATYPES = [('rk', 'i'), ('pos', '|S25'), ('name', '|S25'), ('age', 'i'), ('g', 'i'), ('pa', 'i'), ('ab', 'i'),\n",
    "                ('r', 'i'), ('h', 'i'), ('2b', 'i'), ('3b', 'i'), ('hr', 'i'), ('rbi', 'i'), ('sb', 'i'), ('cs', 'i'),\n",
    "                ('bb', 'i'), ('so', 'i'), ('ba', 'f'), ('obp', 'f'), ('slg', 'f'), ('ops', 'f'), ('opsp', 'i'),\n",
    "                ('tb', 'i'), ('gdp', 'i'), ('hbp', 'i'), ('sh', 'i'), ('sf', 'i'), ('ibb', 'i')]\n",
    "\n",
    "#Use this function to actually open the data inside of a NDArray\n",
    "def load_data(filename, d = ','):\n",
    "    data = np.genfromtxt(filename,delimiter = d, skip_header = 1,\n",
    "                        usecols = np.arange(0,24),invalid_raise=False,\n",
    "                        names = FIELDS, dtype = DATATYPES)\n",
    "    return data\n",
    "\n",
    "sox17 = load_data('redsox_2017_hitting.txt')\n",
    "sox18 = load_data('redsox_2018_hitting.txt')\n",
    "# print(sox17) shows all data\n",
    "\n",
    "avg17=sum(sox17['SLG']) / length17\n",
    "avg18=sum(sox18['SLG']) / length18\n",
    "\n",
    "length17 = len(sox17['SLG']) #SLG is a measure of batter productivity HR=4, 1b=1, 2b=2 (perfect score is 4.0)\n",
    "print('Average of the SLG Column in 2017: {}'.format(avg17)) \n",
    "\n",
    "length18 = len(sox18['SLG']) #SLG is a measure of batter productivity HR=4, 1b=1, 2b=2 (perfect score is 4.0)\n",
    "print('Average of the SLG Column in 2018: {}'.format(avg18)) \n",
    "\n",
    "print(f'2017 was a better year for batter productivity the average SLG was {avg17 - avg18} higher than 2018')\n",
    "\n"
   ]
  },
  {
   "cell_type": "code",
   "execution_count": null,
   "metadata": {},
   "outputs": [],
   "source": []
  }
 ],
 "metadata": {
  "colab": {
   "name": "Copy of Data_Science_Day_1_Exercises-Day1- Homework.ipynb",
   "provenance": []
  },
  "kernelspec": {
   "display_name": "Python 3 (ipykernel)",
   "language": "python",
   "name": "python3"
  },
  "language_info": {
   "codemirror_mode": {
    "name": "ipython",
    "version": 3
   },
   "file_extension": ".py",
   "mimetype": "text/x-python",
   "name": "python",
   "nbconvert_exporter": "python",
   "pygments_lexer": "ipython3",
   "version": "3.10.9"
  }
 },
 "nbformat": 4,
 "nbformat_minor": 1
}
